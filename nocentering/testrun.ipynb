{
 "cells": [
  {
   "cell_type": "code",
   "execution_count": null,
   "id": "overall-arrow",
   "metadata": {},
   "outputs": [
    {
     "name": "stdout",
     "output_type": "stream",
     "text": [
      "Starting low-dimensional trainings for corruption level c=0...\n",
      "Running psgd with n_components=3 and c=0...\n",
      "PCA\n",
      "logs/save_labelnoise0_resnet32\n",
      "params: from 0 to 81\n",
      "/users/0/li004221/centering/train_psgd.py:148: FutureWarning: You are using `torch.load` with `weights_only=False` (the current default value), which uses the default pickle module implicitly. It is possible to construct malicious pickle data which will execute arbitrary code during unpickling (See https://github.com/pytorch/pytorch/blob/main/SECURITY.md#untrusted-models for more details). In a future release, the default value for `weights_only` will be flipped to `True`. This limits the functions that could be executed during unpickling. Arbitrary objects will no longer be allowed to be loaded via this mode unless they are explicitly allowlisted by the user via `torch.serialization.add_safe_globals`. We recommend you start setting `weights_only=True` for any use case where you don't have full control of the loaded file. Please open an issue on GitHub for any issues related to this experimental feature.\n",
      "  model.load_state_dict(torch.load(os.path.join(args.save_dir,  str(i) +  '.pt')))\n",
      "W: (81, 470004)\n",
      "/users/0/li004221/centering/train_psgd.py:162: FutureWarning: You are using `torch.load` with `weights_only=False` (the current default value), which uses the default pickle module implicitly. It is possible to construct malicious pickle data which will execute arbitrary code during unpickling (See https://github.com/pytorch/pytorch/blob/main/SECURITY.md#untrusted-models for more details). In a future release, the default value for `weights_only` will be flipped to `True`. This limits the functions that could be executed during unpickling. Arbitrary objects will no longer be allowed to be loaded via this mode unless they are explicitly allowlisted by the user via `torch.serialization.add_safe_globals`. We recommend you start setting `weights_only=True` for any use case where you don't have full control of the loaded file. Please open an issue on GitHub for any issues related to this experimental feature.\n",
      "  model.load_state_dict(torch.load(os.path.join(args.save_dir,  str(args.params_start) +  '.pt')))\n",
      "normal dataset!\n",
      "Files already downloaded and verified\n",
      "Train: (0, 40)\n",
      "total time: 325.53374195098877\n",
      "train loss:  [5.288002261276245, 3.120640047073364, 2.9093851895141603, 2.656750084838867, 2.623731858215332, 2.6180279696655275, 2.616854672012329, 2.6267997688293456, 2.6233072524261476, 2.597969485015869, 2.6150076576232912, 2.6174246086120605, 2.6136961264038088, 2.610450822753906, 2.6184166569519043, 2.626792889251709, 2.611875899810791, 2.6010733000183106, 2.604685670700073, 2.6037178746795653, 2.616275094604492, 2.6041229624938964, 2.6166768058013914, 2.607485289230347, 2.614311833343506, 2.619623478012085, 2.6163191120910643, 2.621916719894409, 2.6197421132659913, 2.621038175811768, 2.623867504653931, 2.628467815322876, 2.6282103161621095, 2.620462235183716, 2.631395768585205, 2.6314795096588135, 2.6188042138671874, 2.630002866973877, 2.61702608253479, 2.6281086845397947]\n",
      "train acc:  [7.876, 33.286, 38.254, 41.824, 42.748, 42.76, 42.976, 42.822, 42.812, 43.226, 42.64, 42.732, 42.8, 43.07, 42.952, 42.768, 43.002, 43.122, 43.078, 43.106, 43.154, 43.09, 42.652, 43.04, 42.962, 42.858, 42.652, 43.12, 42.864, 42.766, 42.71, 42.692, 42.874, 42.728, 42.764, 42.718, 42.968, 42.72, 43.03, 42.854]\n",
      "test loss:  [3.649147810745239, 3.4921393447875975, 3.3516921981811523, 3.2812503044128416, 3.2950687854766847, 3.304881201171875, 3.310139769744873, 3.315064966201782, 3.3334358058929445, 3.314976616668701, 3.2902472629547117, 3.3046242115020754, 3.3180834159851074, 3.290047280883789, 3.2792309425354005, 3.3082088989257814, 3.3310308494567873, 3.296171032714844, 3.289200968551636, 3.3044779960632322, 3.313493789291382, 3.3336872440338134, 3.3114841644287107, 3.31692984085083, 3.327585870742798, 3.3046131576538085, 3.313677857971191, 3.3195073905944823, 3.2959050060272217, 3.290148662567139, 3.2762321002960206, 3.3047425315856933, 3.3105954334259033, 3.338361817550659, 3.307038613128662, 3.2990066509246825, 3.2913539073944094, 3.292132664489746, 3.2978966514587404, 3.2995217075347902]\n",
      "test acc:  [28.02, 34.29, 38.23, 39.72, 40.02, 40.21, 39.91, 39.91, 39.71, 39.74, 40.31, 39.98, 39.84, 40.14, 40.18, 39.9, 39.84, 40.21, 40.32, 39.88, 39.92, 39.76, 40.04, 39.83, 39.76, 40.08, 39.86, 39.97, 40.25, 40.24, 39.97, 39.93, 39.82, 39.82, 40.1, 40.16, 40.12, 40.34, 40.0, 39.95]\n",
      "best_prec1: 40.34\n",
      "last acc: 39.95\n",
      "Running SPCA with n_components=3 and c=0...\n",
      "SPCA\n",
      "logs/save_labelnoise0_resnet32\n",
      "params: from 0 to 81\n",
      "/users/0/li004221/centering/train_SPCA.py:149: FutureWarning: You are using `torch.load` with `weights_only=False` (the current default value), which uses the default pickle module implicitly. It is possible to construct malicious pickle data which will execute arbitrary code during unpickling (See https://github.com/pytorch/pytorch/blob/main/SECURITY.md#untrusted-models for more details). In a future release, the default value for `weights_only` will be flipped to `True`. This limits the functions that could be executed during unpickling. Arbitrary objects will no longer be allowed to be loaded via this mode unless they are explicitly allowlisted by the user via `torch.serialization.add_safe_globals`. We recommend you start setting `weights_only=True` for any use case where you don't have full control of the loaded file. Please open an issue on GitHub for any issues related to this experimental feature.\n",
      "  model.load_state_dict(torch.load(os.path.join(args.save_dir,  str(i) +  '.pt')))\n",
      "W: (81, 470004)\n",
      "P: (3, 470004)\n",
      "float32\n",
      "/users/0/li004221/centering/train_SPCA.py:173: FutureWarning: You are using `torch.load` with `weights_only=False` (the current default value), which uses the default pickle module implicitly. It is possible to construct malicious pickle data which will execute arbitrary code during unpickling (See https://github.com/pytorch/pytorch/blob/main/SECURITY.md#untrusted-models for more details). In a future release, the default value for `weights_only` will be flipped to `True`. This limits the functions that could be executed during unpickling. Arbitrary objects will no longer be allowed to be loaded via this mode unless they are explicitly allowlisted by the user via `torch.serialization.add_safe_globals`. We recommend you start setting `weights_only=True` for any use case where you don't have full control of the loaded file. Please open an issue on GitHub for any issues related to this experimental feature.\n",
      "  model.load_state_dict(torch.load(os.path.join(args.save_dir,  str(args.params_start) +  '.pt')))\n",
      "normal dataset!\n",
      "Files already downloaded and verified\n",
      "Train: (0, 40)\n",
      "total time: 324.8197560310364\n",
      "train loss:  [6.594071784362793, 6.431087303161621, 6.411979356689453, 6.410104760742188, 6.407448835906982, 6.410535154571533, 6.40698388168335, 6.413034004516602, 6.405377483215332, 6.409007904205322, 6.410247557678223, 6.407155612640381, 6.408195680236816, 6.411738831787109, 6.409420673980713, 6.411138084869385, 6.407311448059082, 6.40441294052124, 6.404972568206787, 6.408375856018067, 6.413199117279053, 6.4120054051208495, 6.408505325012207, 6.411101161804199, 6.409843992004395, 6.410603902587891, 6.4082877328491215, 6.402569796142578, 6.406821797790528, 6.405097899017334, 6.4056039038085935, 6.407786269226074, 6.40971938293457, 6.410167562103272, 6.406600070648193, 6.404009913482666, 6.40903722290039, 6.406811078186035, 6.408948320465088, 6.407269410247803]\n",
      "train acc:  [0.994, 0.982, 1.158, 1.116, 1.146, 1.15, 1.094, 1.15, 1.17, 1.154, 1.144, 1.182, 1.14, 1.168, 1.204, 1.076, 1.174, 1.104, 1.156, 1.168, 1.162, 1.09, 1.104, 1.196, 1.116, 1.07, 1.188, 1.14, 1.142, 1.146, 1.106, 1.154, 1.106, 1.138, 1.158, 1.164, 1.07, 1.146, 1.164, 1.152]\n",
      "test loss:  [6.288938893127441, 6.357632102203369, 6.35388503112793, 6.411650192260742, 6.400354084014893, 6.37232352218628, 6.380532177734375, 6.365376379394531, 6.381096577453613, 6.351958312988281, 6.424728615570069, 6.42386004486084, 6.365294493103027, 6.37838501663208, 6.401522034454346, 6.403615779876709, 6.309698007202148, 6.38535595703125, 6.410192279815674, 6.3881009002685545, 6.376601731109619, 6.425820030212402, 6.387084671020508, 6.377069352722168, 6.359017861175537, 6.341244624328613, 6.373894306182861, 6.348224574279786, 6.378733354187012, 6.341665174865723, 6.381678688049316, 6.3952683715820315, 6.391754155731201, 6.392630342102051, 6.390841571044922, 6.359227310180664, 6.367089334106446, 6.369896406555176, 6.35764687423706, 6.3836812446594235]\n",
      "test acc:  [0.88, 1.16, 1.17, 1.29, 1.22, 1.29, 1.27, 1.31, 1.26, 1.31, 1.31, 1.19, 1.22, 1.23, 1.24, 1.2, 1.21, 1.16, 1.16, 1.26, 1.23, 1.19, 1.19, 1.23, 1.21, 1.2, 1.21, 1.21, 1.26, 1.27, 1.27, 1.26, 1.24, 1.27, 1.19, 1.23, 1.21, 1.24, 1.24, 1.29]\n",
      "best_prec1: 1.31\n",
      "last acc: 1.29\n"
     ]
    },
    {
     "name": "stdout",
     "output_type": "stream",
     "text": [
      "Running FMS with n_components=3 and c=0...\n",
      "FMS\n",
      "logs/save_labelnoise0_resnet32\n",
      "params: from 0 to 81\n",
      "/users/0/li004221/centering/train_FMS.py:188: FutureWarning: You are using `torch.load` with `weights_only=False` (the current default value), which uses the default pickle module implicitly. It is possible to construct malicious pickle data which will execute arbitrary code during unpickling (See https://github.com/pytorch/pytorch/blob/main/SECURITY.md#untrusted-models for more details). In a future release, the default value for `weights_only` will be flipped to `True`. This limits the functions that could be executed during unpickling. Arbitrary objects will no longer be allowed to be loaded via this mode unless they are explicitly allowlisted by the user via `torch.serialization.add_safe_globals`. We recommend you start setting `weights_only=True` for any use case where you don't have full control of the loaded file. Please open an issue on GitHub for any issues related to this experimental feature.\n",
      "  model.load_state_dict(torch.load(os.path.join(args.save_dir,  str(i) +  '.pt')))\n",
      "W: (81, 470004)\n",
      "U: (81, 3)\n",
      "P: (470004, 3)\n",
      "/users/0/li004221/centering/train_FMS.py:213: FutureWarning: You are using `torch.load` with `weights_only=False` (the current default value), which uses the default pickle module implicitly. It is possible to construct malicious pickle data which will execute arbitrary code during unpickling (See https://github.com/pytorch/pytorch/blob/main/SECURITY.md#untrusted-models for more details). In a future release, the default value for `weights_only` will be flipped to `True`. This limits the functions that could be executed during unpickling. Arbitrary objects will no longer be allowed to be loaded via this mode unless they are explicitly allowlisted by the user via `torch.serialization.add_safe_globals`. We recommend you start setting `weights_only=True` for any use case where you don't have full control of the loaded file. Please open an issue on GitHub for any issues related to this experimental feature.\n",
      "  model.load_state_dict(torch.load(os.path.join(args.save_dir,  str(args.params_start) +  '.pt')))\n",
      "normal dataset!\n",
      "Files already downloaded and verified\n",
      "Train: (0, 40)\n"
     ]
    }
   ],
   "source": [
    "!chmod +x run1.sh\n",
    "!./run1.sh\n"
   ]
  },
  {
   "cell_type": "code",
   "execution_count": null,
   "id": "amber-leather",
   "metadata": {},
   "outputs": [],
   "source": []
  },
  {
   "cell_type": "code",
   "execution_count": null,
   "id": "endless-grave",
   "metadata": {},
   "outputs": [],
   "source": []
  },
  {
   "cell_type": "code",
   "execution_count": null,
   "id": "dated-salad",
   "metadata": {},
   "outputs": [],
   "source": []
  }
 ],
 "metadata": {
  "kernelspec": {
   "display_name": "Python 3 (Deep Learning)",
   "language": "python",
   "name": "deeplearning"
  },
  "language_info": {
   "codemirror_mode": {
    "name": "ipython",
    "version": 3
   },
   "file_extension": ".py",
   "mimetype": "text/x-python",
   "name": "python",
   "nbconvert_exporter": "python",
   "pygments_lexer": "ipython3",
   "version": "3.11.6"
  }
 },
 "nbformat": 4,
 "nbformat_minor": 5
}
